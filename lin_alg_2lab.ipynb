{
  "cells": [
    {
      "cell_type": "markdown",
      "metadata": {
        "id": "RYuwDbcYLyah"
      },
      "source": [
        "# Класс матриц"
      ]
    },
    {
      "cell_type": "code",
      "execution_count": 2,
      "metadata": {
        "id": "jhFnsyC655mG"
      },
      "outputs": [],
      "source": [
        "class Matrix:\n",
        "    def __init__(self, matrix=None, vector_orientation='row'):\n",
        "        if matrix is None:\n",
        "            self.matrix = self.input_from_keyboard()\n",
        "        elif isinstance(matrix, list):\n",
        "            if all(isinstance(x, (int, float)) for x in matrix):\n",
        "                if vector_orientation == 'row':\n",
        "                    self.matrix = [matrix]\n",
        "                elif vector_orientation == 'col':\n",
        "                    self.matrix = [[x] for x in matrix]\n",
        "                else:\n",
        "                    raise ValueError(\"vector_orientation должен быть 'row' или 'col'\")\n",
        "            else:\n",
        "                self.matrix = matrix\n",
        "        # elif isinstance(matrix, np.ndarray):\n",
        "        #     self.matrix = matrix\n",
        "        else:\n",
        "            raise ValueError(\"неподдерживаемый тип данных для инициализации матрицы\")\n",
        "\n",
        "    @classmethod\n",
        "    def input_from_keyboard(cls):\n",
        "        try:\n",
        "            rows = int(input(\"Введите кол-во строк: \"))\n",
        "            cols = int(input(\"Введите кол-во столбцов: \"))\n",
        "            if rows <= 0 or cols <= 0:\n",
        "                raise ValueError(\"кол-во строк и столбцов должны быть положительными\")\n",
        "        except ValueError as e:\n",
        "            print(f\"Input error: {e}\")\n",
        "            exit(1)\n",
        "\n",
        "        print(\"Введите матрицу построчно, элементы отделяйте пробелами:\")\n",
        "        matrix = []\n",
        "        for i in range(rows):\n",
        "            try:\n",
        "                row = list(map(float, input(f\"Row {i+1}: \").split()))\n",
        "                if len(row) != cols:\n",
        "                    raise ValueError(f\"Ожидалось {cols} элементов, получили {len(row)}.\")\n",
        "                matrix.append(row)\n",
        "            except ValueError as e:\n",
        "                print(f\"Input error: {e}\")\n",
        "                exit(1)\n",
        "\n",
        "        return matrix\n",
        "\n",
        "    def __add__(self, other):\n",
        "        if isinstance(other, Matrix):\n",
        "            if len(self.matrix) != len(other.matrix) or len(self.matrix[0]) != len(other.matrix[0]):\n",
        "                raise ValueError(\"разные размерности матриц, проверь что-то не так\")\n",
        "            result = [\n",
        "                [self.matrix[i][j] + other.matrix[i][j] for j in range(len(self.matrix[0]))]\n",
        "                for i in range(len(self.matrix))\n",
        "            ]\n",
        "            return Matrix(result)\n",
        "        else:\n",
        "            raise ValueError(\"тока с другой матрицей сложить можем\")\n",
        "\n",
        "    def __sub__(self, other):\n",
        "        if isinstance(other, Matrix):\n",
        "            if len(self.matrix) != len(other.matrix) or len(self.matrix[0]) != len(other.matrix[0]):\n",
        "                raise ValueError(\"разные размерности матриц, проверь что-то не так\")\n",
        "            result = [\n",
        "                [self.matrix[i][j] - other.matrix[i][j] for j in range(len(self.matrix[0]))]\n",
        "                for i in range(len(self.matrix))\n",
        "            ]\n",
        "            return Matrix(result)\n",
        "        else:\n",
        "            raise ValueError(\"можем вычитать из матрицы матрицу, у тебя не так\")\n",
        "\n",
        "    def __mul__(self, scalar):\n",
        "        if isinstance(scalar, (int, float)):\n",
        "            result = [\n",
        "                [self.matrix[i][j] * scalar for j in range(len(self.matrix[0]))]\n",
        "                for i in range(len(self.matrix))\n",
        "            ]\n",
        "            return Matrix(result)\n",
        "        else:\n",
        "            raise ValueError(\"матрица может быть умножена только на скаляр\")\n",
        "\n",
        "    def __rmul__(self, scalar):\n",
        "        return self.__mul__(scalar)\n",
        "\n",
        "    def __matmul__(self, other):\n",
        "        if isinstance(other, Matrix):\n",
        "            if len(self.matrix[0]) != len(other.matrix):\n",
        "                raise ValueError(\"не те размерности для перемножения матриц\")\n",
        "\n",
        "            result = []\n",
        "            for i in range(len(self.matrix)):\n",
        "                row = []\n",
        "                for j in range(len(other.matrix[0])):\n",
        "                    element = sum(self.matrix[i][k] * other.matrix[k][j] for k in range(len(other.matrix)))\n",
        "                    row.append(element)\n",
        "                result.append(row)\n",
        "            return Matrix(result)\n",
        "        else:\n",
        "            raise ValueError(\"могу только с другой матрицей перемножить\")\n",
        "\n",
        "    def __truediv__(self, scalar):\n",
        "      if isinstance(scalar, (int, float)):\n",
        "          if scalar == 0:\n",
        "              raise ZeroDivisionError(\"на ноль не делим\")\n",
        "          result = [\n",
        "              [self.matrix[i][j] / scalar for j in range(len(self.matrix[0]))]\n",
        "              for i in range(len(self.matrix))\n",
        "          ]\n",
        "          return Matrix(result)\n",
        "      else:\n",
        "          raise ValueError(\"может быть разделена только на скаляр\")\n",
        "\n",
        "    def __str__(self):\n",
        "      all_elements = [elem for row in self.matrix for elem in row]\n",
        "      max_width = max(len(f\"{elem:.2f}\") for elem in all_elements)\n",
        "\n",
        "      rows = ['[' + ' '.join(f\"{elem:>{max_width}.2f}\" for elem in row) + ']'\n",
        "          for row in self.matrix]\n",
        "      return '[' + '\\n '.join(rows) + ']'\n",
        "\n",
        "    def __getitem__(self, index):\n",
        "      return self.matrix[index]\n",
        "\n",
        "    def __setitem__(self, index, value):\n",
        "      self.matrix[index] = value\n"
      ]
    },
    {
      "cell_type": "markdown",
      "metadata": {
        "id": "5ZIfGvhdMCh-"
      },
      "source": [
        "## Функции для формирования матриц (как в numpy)"
      ]
    },
    {
      "cell_type": "code",
      "execution_count": 3,
      "metadata": {
        "id": "UpK475wz8JB1"
      },
      "outputs": [],
      "source": [
        "def get_eye_matrix(shape):\n",
        "    rows, cols = shape\n",
        "    return [[1 if i == j else 0 for j in range(cols)] for i in range(rows)]\n",
        "\n",
        "\n",
        "def my_full(shape, fill_value):\n",
        "    return [[fill_value for _ in range(shape[1])] for _ in range(shape[0])]\n",
        "\n",
        "\n",
        "def get_arange_matrix(shape, start=0, step=1):\n",
        "    rows, cols = shape\n",
        "    array = []\n",
        "    current_value = start\n",
        "    for i in range(rows):\n",
        "        row = []\n",
        "        for j in range(cols):\n",
        "            row.append(current_value)\n",
        "            current_value += step\n",
        "        array.append(row)\n",
        "    return array"
      ]
    },
    {
      "cell_type": "markdown",
      "metadata": {
        "id": "QTeFDIToMOn-"
      },
      "source": [
        "# Уровень Easy"
      ]
    },
    {
      "cell_type": "markdown",
      "metadata": {
        "id": "jvBEU80JMVTM"
      },
      "source": [
        "## 1. Метод Гаусса для решения СЛАУ"
      ]
    },
    {
      "cell_type": "code",
      "execution_count": 4,
      "metadata": {
        "id": "IOkHRj44BJnI"
      },
      "outputs": [],
      "source": [
        "from typing import List\n",
        "\n",
        "def gauss_solver(A: 'Matrix', b: 'Matrix') -> List['Matrix']:\n",
        "    n = len(A.matrix)\n",
        "    m = len(A.matrix[0])\n",
        "\n",
        "    aug = Matrix([[A[i][j] for j in range(m)] + [b[i][0]] for i in range(n)])\n",
        "\n",
        "    row = 0\n",
        "    for col in range(m):\n",
        "        pivot = None\n",
        "        for r in range(row, n):\n",
        "            if aug[r][col] != 0:\n",
        "                pivot = r\n",
        "                break\n",
        "\n",
        "        if pivot is None:\n",
        "            continue\n",
        "\n",
        "        aug[row], aug[pivot] = aug[pivot], aug[row]\n",
        "\n",
        "        factor = aug[row][col]\n",
        "        for j in range(col, m + 1):\n",
        "            aug[row][j] /= factor\n",
        "\n",
        "        for r in range(row + 1, n):\n",
        "            factor = aug[r][col]\n",
        "            for j in range(col, m + 1):\n",
        "                aug[r][j] -= factor * aug[row][j]\n",
        "\n",
        "        row += 1\n",
        "\n",
        "    for r in range(row, n):\n",
        "        if all(aug[r][c] == 0 for c in range(m)) and aug[r][m] != 0:\n",
        "            raise ValueError(\"Система несовместна\")\n",
        "\n",
        "    lead_vars = [-1] * row\n",
        "    for r in range(row):\n",
        "        for c in range(m):\n",
        "            if abs(aug[r][c]) > 1e-9:\n",
        "                lead_vars[r] = c\n",
        "                break\n",
        "\n",
        "    free_vars = [c for c in range(m) if c not in lead_vars]\n",
        "\n",
        "    if len(free_vars) == 0:\n",
        "        solution = [0] * m\n",
        "        for i in reversed(range(row)):\n",
        "            idx = lead_vars[i]\n",
        "            solution[idx] = aug[i][m] - sum(aug[i][j] * solution[j] for j in range(idx + 1, m))\n",
        "        print(\"Единственное решение\")\n",
        "        return [Matrix([[x] for x in solution])]\n",
        "    else:\n",
        "        print(\"Бесконечное количество решений\")\n",
        "        return build_fundamental_solution(aug, lead_vars, free_vars, m)\n",
        "\n",
        "\n",
        "def build_fundamental_solution(aug, lead_vars, free_vars, vars_count):\n",
        "    basis = []\n",
        "    for free_var in free_vars:\n",
        "        vector = [0] * vars_count\n",
        "        vector[free_var] = 1\n",
        "\n",
        "        for i in reversed(range(len(lead_vars))):\n",
        "            idx = lead_vars[i]\n",
        "            if idx == -1:\n",
        "                continue\n",
        "            value = -sum(aug[i][j] * vector[j] for j in range(idx + 1, vars_count))\n",
        "            vector[idx] = value\n",
        "\n",
        "        basis.append(Matrix([[x] for x in vector]))\n",
        "    return basis\n"
      ]
    },
    {
      "cell_type": "markdown",
      "metadata": {
        "id": "bfehNCXENEzJ"
      },
      "source": [
        "## 2. Центрирование данных"
      ]
    },
    {
      "cell_type": "code",
      "execution_count": 5,
      "metadata": {
        "id": "yutqw1DKK2ml"
      },
      "outputs": [],
      "source": [
        "def center_data(X):\n",
        "    n = len(X.matrix)\n",
        "    m = len(X.matrix[0])\n",
        "\n",
        "    feature_means = [sum(X[i][j] for i in range(n)) / n for j in range(m)]\n",
        "    X_centered = [[X[i][j] - feature_means[j] for j in range(m)] for i in range(n)]\n",
        "\n",
        "    return Matrix(X_centered)"
      ]
    },
    {
      "cell_type": "markdown",
      "metadata": {
        "id": "EyotVxSJNXIN"
      },
      "source": [
        "## 3. Матрица ковариаций"
      ]
    },
    {
      "cell_type": "code",
      "execution_count": 6,
      "metadata": {
        "id": "D4Iw4JCbNSoy"
      },
      "outputs": [],
      "source": [
        "def transpose(matrix):\n",
        "    n = len(matrix.matrix)\n",
        "    m = len(matrix.matrix[0])\n",
        "    transposed = [[matrix[i][j] for i in range(n)] for j in range(m)]\n",
        "    return Matrix(transposed)\n",
        "\n",
        "\n",
        "def covariance_matrix(X_centered):\n",
        "    n = len(X_centered.matrix)\n",
        "    XT = transpose(X_centered)\n",
        "    C = (1/(n-1)) * (XT @ X_centered)\n",
        "    return C"
      ]
    },
    {
      "cell_type": "markdown",
      "metadata": {
        "id": "t2sPllmlOBLF"
      },
      "source": [
        "# Уровень Normal"
      ]
    },
    {
      "cell_type": "markdown",
      "metadata": {
        "id": "Vx9y1M2_OF1Z"
      },
      "source": [
        "## 1. Собственные значения матрицы через метод Гаусса и бисекцию"
      ]
    },
    {
      "cell_type": "code",
      "execution_count": 7,
      "metadata": {
        "id": "d0d_4U97Eqcd"
      },
      "outputs": [],
      "source": [
        "def find_eigenvalues(C: 'Matrix', tol: float = 1e-6) -> List[float]:\n",
        "    n = len(C.matrix)\n",
        "\n",
        "    def determinant_minus_lambda(lam: float) -> float:\n",
        "        M = Matrix([[C[i][j] - (lam if i == j else 0) for j in range(n)] for i in range(n)])\n",
        "        return compute_determinant_gauss(M)\n",
        "\n",
        "    eigenvalues = []\n",
        "    left, right = -10, 100\n",
        "    step = 0.001\n",
        "\n",
        "    x = left\n",
        "    while x <= right:\n",
        "        fx = determinant_minus_lambda(x)\n",
        "        if abs(fx) < tol:\n",
        "            eigenvalues.append(x)\n",
        "            x += 5 * step\n",
        "            continue\n",
        "\n",
        "        x_next = x + step\n",
        "        if x_next > right:\n",
        "            break\n",
        "\n",
        "        fx_next = determinant_minus_lambda(x_next)\n",
        "        if fx * fx_next < 0:\n",
        "            root = bisection(determinant_minus_lambda, x, x_next, tol)\n",
        "            eigenvalues.append(root)\n",
        "            x = x_next + 5 * step\n",
        "            continue\n",
        "\n",
        "        x = x_next\n",
        "\n",
        "    eigenvalues = merge_close_roots(eigenvalues, eps=1e-2)\n",
        "\n",
        "    return eigenvalues\n",
        "\n",
        "\n",
        "def compute_determinant_gauss(M: 'Matrix') -> float:\n",
        "    n = len(M.matrix)\n",
        "    M = Matrix([[M[i][j] for j in range(n)] for i in range(n)])\n",
        "    det = 1\n",
        "    for i in range(n):\n",
        "        if abs(M[i][i]) < 1e-12:\n",
        "            for j in range(i + 1, n):\n",
        "                if abs(M[j][i]) > 1e-12:\n",
        "                    M[i], M[j] = M[j], M[i]\n",
        "                    det *= -1\n",
        "                    break\n",
        "            else:\n",
        "                return 0\n",
        "\n",
        "        det *= M[i][i]\n",
        "        for j in range(i + 1, n):\n",
        "            factor = M[j][i] / M[i][i]\n",
        "            for k in range(i, n):\n",
        "                M[j][k] -= factor * M[i][k]\n",
        "    return det\n",
        "\n",
        "\n",
        "def bisection(f, a, b, tol):\n",
        "    fa = f(a)\n",
        "    fb = f(b)\n",
        "\n",
        "    if abs(fa) < tol:\n",
        "        return a\n",
        "    if abs(fb) < tol:\n",
        "        return b\n",
        "\n",
        "    if fa * fb > 0:\n",
        "        for _ in range(100):\n",
        "            c = (a + b) / 2\n",
        "            fc = f(c)\n",
        "            if abs(fc) < tol or abs(b - a) < tol:\n",
        "                return c\n",
        "            if abs(fa) < abs(fb):\n",
        "                b = c\n",
        "                fb = fc\n",
        "            else:\n",
        "                a = c\n",
        "                fa = fc\n",
        "        return (a + b) / 2\n",
        "    else:\n",
        "        while b - a > tol:\n",
        "            c = (a + b) / 2\n",
        "            fc = f(c)\n",
        "            if abs(fc) < tol:\n",
        "                return c\n",
        "            if fa * fc < 0:\n",
        "                b = c\n",
        "                fb = fc\n",
        "            else:\n",
        "                a = c\n",
        "                fa = fc\n",
        "        return (a + b) / 2\n",
        "\n",
        "\n",
        "def merge_close_roots(roots: List[float], eps: float = 1e-3) -> List[float]:\n",
        "    if not roots:\n",
        "        return []\n",
        "\n",
        "    roots.sort()\n",
        "    merged = []\n",
        "    current_group = [roots[0]]\n",
        "\n",
        "    for root in roots[1:]:\n",
        "        if abs(root - current_group[-1]) <= eps:\n",
        "            current_group.append(root)\n",
        "        else:\n",
        "            merged.append(sum(current_group) / len(current_group))\n",
        "            current_group = [root]\n",
        "\n",
        "    merged.append(sum(current_group) / len(current_group))\n",
        "    return merged"
      ]
    },
    {
      "cell_type": "markdown",
      "source": [
        "## 1. Собственные значения через QR разложение"
      ],
      "metadata": {
        "id": "p6Cm96GkTFIi"
      }
    },
    {
      "cell_type": "code",
      "execution_count": 8,
      "metadata": {
        "id": "K8145UubAjdA"
      },
      "outputs": [],
      "source": [
        "import math\n",
        "\n",
        "def qr_decomposition(A: 'Matrix'):\n",
        "    n = len(A.matrix)\n",
        "    m = len(A.matrix[0])\n",
        "\n",
        "    Q_columns = []\n",
        "    for j in range(m):\n",
        "        v = [A[i][j] for i in range(n)]\n",
        "        for k in range(j):\n",
        "            qk = [Q_columns[k][i] for i in range(n)]\n",
        "            proj = sum(v[i] * qk[i] for i in range(n))\n",
        "            for i in range(n):\n",
        "                v[i] -= proj * qk[i]\n",
        "        norm = math.sqrt(sum(v[i] ** 2 for i in range(n)))\n",
        "        if norm < 1e-12:\n",
        "            v = [0] * n\n",
        "        else:\n",
        "            v = [v[i] / norm for i in range(n)]\n",
        "        Q_columns.append(v)\n",
        "\n",
        "    Q = Matrix([[Q_columns[j][i] for j in range(m)] for i in range(n)])\n",
        "    R = Matrix([[0] * m for _ in range(m)])\n",
        "    for i in range(m):\n",
        "        for j in range(i, m):\n",
        "            R[i][j] = sum(Q[k][i] * A[k][j] for k in range(n))\n",
        "\n",
        "    return Q, R\n",
        "\n",
        "\n",
        "def qr_algorithm(C: 'Matrix', max_iter: int = 10000, tol: float = 1e-7) -> List[float]:\n",
        "    n = len(C.matrix)\n",
        "    A = Matrix([row[:] for row in C.matrix])\n",
        "\n",
        "    for _ in range(max_iter):\n",
        "        Q, R = qr_decomposition(A)\n",
        "        A = R @ Q\n",
        "\n",
        "    eigenvalues = [A[i][i] for i in range(n)]\n",
        "    return eigenvalues\n"
      ]
    },
    {
      "cell_type": "markdown",
      "metadata": {
        "id": "rE4HI_15OQxG"
      },
      "source": [
        "## 2. Собственные векторы"
      ]
    },
    {
      "cell_type": "code",
      "execution_count": 9,
      "metadata": {
        "id": "v03N8-M9Y2Hn"
      },
      "outputs": [],
      "source": [
        "def find_eigenvectors(C: 'Matrix', eigenvalues: List[float]) -> List['Matrix']:\n",
        "    n = len(C.matrix)\n",
        "    eigenvectors = []\n",
        "\n",
        "    for lam in eigenvalues:\n",
        "        M = Matrix([[C[i][j] - (lam if i == j else 0) for j in range(n)] for i in range(n)])\n",
        "\n",
        "        vectors = solve_homogeneous_system(M)\n",
        "        eigenvectors.extend(vectors)\n",
        "\n",
        "    return eigenvectors\n",
        "\n",
        "\n",
        "def solve_homogeneous_system(M: 'Matrix') -> List['Matrix']:\n",
        "    n = len(M.matrix)\n",
        "    m = len(M.matrix[0])\n",
        "\n",
        "    M = Matrix([[M[i][j] for j in range(m)] for i in range(n)])\n",
        "    pivot_cols = []\n",
        "    row = 0\n",
        "    for col in range(m):\n",
        "        pivot_row = None\n",
        "        for r in range(row, n):\n",
        "            if abs(M[r][col]) > 1e-4:\n",
        "                pivot_row = r\n",
        "                break\n",
        "\n",
        "        if pivot_row is not None:\n",
        "            if pivot_row != row:\n",
        "                M.matrix[row], M.matrix[pivot_row] = M.matrix[pivot_row], M.matrix[row]\n",
        "\n",
        "            pivot_cols.append(col)\n",
        "\n",
        "            factor = M.matrix[row][col]\n",
        "            for j in range(col, m):\n",
        "                M.matrix[row][j] /= factor\n",
        "\n",
        "            for r in range(row + 1, n):\n",
        "                factor = M.matrix[r][col]\n",
        "                for j in range(col, m):\n",
        "                    M.matrix[r][j] -= factor * M.matrix[row][j]\n",
        "\n",
        "            row += 1\n",
        "\n",
        "    free_vars = [i for i in range(m) if i not in pivot_cols]\n",
        "    basis = []\n",
        "\n",
        "    for free_var in free_vars:\n",
        "        vec = [0] * m\n",
        "        vec[free_var] = 1\n",
        "\n",
        "        for i in range(len(pivot_cols) - 1, -1, -1):\n",
        "            pivot_col = pivot_cols[i]\n",
        "            variable_sum = 0\n",
        "            for j in range(pivot_col + 1, m):\n",
        "                variable_sum += M.matrix[i][j] * vec[j]\n",
        "            vec[pivot_col] = -variable_sum\n",
        "\n",
        "        basis.append(Matrix([[v] for v in vec]))\n",
        "\n",
        "    return basis\n"
      ]
    },
    {
      "cell_type": "markdown",
      "source": [
        "## 3. Доля объясненной дисперсии"
      ],
      "metadata": {
        "id": "y0jGpt8lTfuy"
      }
    },
    {
      "cell_type": "code",
      "execution_count": 10,
      "metadata": {
        "id": "C6kYf-xRYgQ9"
      },
      "outputs": [],
      "source": [
        "def explained_variance_ratio(eigenvalues: List[float], k: int) -> float:\n",
        "    sorted_eigenvalues = sorted(eigenvalues, reverse=True)\n",
        "\n",
        "    k_main = sum(sorted_eigenvalues[:k])\n",
        "    all_eigenvalues = sum(sorted_eigenvalues)\n",
        "\n",
        "    return k_main / all_eigenvalues"
      ]
    },
    {
      "cell_type": "markdown",
      "metadata": {
        "id": "x9E0j0nhLv6b"
      },
      "source": [
        "# Уровень Hard"
      ]
    },
    {
      "cell_type": "markdown",
      "source": [
        "## 1. Полный алгоритм PCA"
      ],
      "metadata": {
        "id": "NIA9XhIGTw8j"
      }
    },
    {
      "cell_type": "code",
      "execution_count": 11,
      "metadata": {
        "id": "4NCPVzsxiMfd"
      },
      "outputs": [],
      "source": [
        "def normalize_vector(v: 'Matrix') -> 'Matrix':\n",
        "    norm = sum(x[0]**2 for x in v.matrix) ** 0.5\n",
        "    if norm == 0:\n",
        "        return v\n",
        "    return v / norm\n",
        "\n",
        "\n",
        "def pca(X:'Matrix', k: int):\n",
        "    m = len(X.matrix[0])\n",
        "    n = len(X.matrix)\n",
        "    X_centered = center_data(X)\n",
        "    C = covariance_matrix(X_centered)\n",
        "\n",
        "    eigenvalues = qr_algorithm(C)\n",
        "    eigenvalues_sorted = sorted(eigenvalues, reverse=True)\n",
        "    eigenvectors = find_eigenvectors(C, eigenvalues_sorted)\n",
        "    eigenvectors = [normalize_vector(v) for v in eigenvectors]\n",
        "\n",
        "    k_principal = [[] for _ in range(m)]\n",
        "    for i, vector in enumerate(eigenvectors):\n",
        "        if i >= k:\n",
        "            break\n",
        "        for elem in range(m):\n",
        "            k_principal[elem].append(vector[elem][0])\n",
        "\n",
        "    k_principal = Matrix(k_principal)\n",
        "    X_proj = X_centered @ k_principal\n",
        "    explained_variance = explained_variance_ratio(eigenvalues, k)\n",
        "\n",
        "    return X_proj, explained_variance"
      ]
    },
    {
      "cell_type": "code",
      "source": [
        "data = [\n",
        "    [2.5, 2.4, 1.2],\n",
        "    [0.5, 0.7, 0.8],\n",
        "    [2.2, 2.9, 1.4],\n",
        "    [1.9, 2.2, 1.0],\n",
        "    [3.1, 3.0, 1.5]\n",
        "]\n",
        "\n",
        "X = Matrix(data)\n",
        "X_proj, explained_variance = pca(X, k=2)\n",
        "\n",
        "print(X_proj)\n",
        "print(\"\\nДоля объяснённой дисперсии (explained_variance):\", explained_variance)\n"
      ],
      "metadata": {
        "colab": {
          "base_uri": "https://localhost:8080/"
        },
        "id": "4db8RncEYvLG",
        "outputId": "47ed84f2-15ed-4bd6-e3c1-fc7e576c60ee"
      },
      "execution_count": 12,
      "outputs": [
        {
          "output_type": "stream",
          "name": "stdout",
          "text": [
            "[[ 0.44 -0.21]\n",
            " [-2.21 -0.04]\n",
            " [ 0.60  0.38]\n",
            " [-0.16  0.04]\n",
            " [ 1.33 -0.17]]\n",
            "\n",
            "Доля объяснённой дисперсии (explained_variance): 0.9946121173266852\n"
          ]
        }
      ]
    },
    {
      "cell_type": "markdown",
      "source": [
        "## 2. Проекция данных на две главные компоненты"
      ],
      "metadata": {
        "id": "MDBQp4KOj-b3"
      }
    },
    {
      "cell_type": "code",
      "execution_count": 13,
      "metadata": {
        "id": "VbHmC9k5tiJn"
      },
      "outputs": [],
      "source": [
        "from matplotlib.figure import Figure\n",
        "import matplotlib.pyplot as plt\n",
        "\n",
        "def plot_pca_projection(X_proj: 'Matrix') -> Figure:\n",
        "    if len(X_proj.matrix[0]) != 2:\n",
        "        raise ValueError(\"Проекция должна быть двумерной (n×2) для построения графика.\")\n",
        "\n",
        "    fig, ax = plt.subplots()\n",
        "\n",
        "    x_coords = [row[0] for row in X_proj.matrix]\n",
        "    y_coords = [row[1] for row in X_proj.matrix]\n",
        "\n",
        "    ax.scatter(x_coords, y_coords, c='blue', edgecolors='k')\n",
        "    ax.set_xlabel('1-ая главная компонента (PC1)')\n",
        "    ax.set_ylabel('2-ая главная компонента (PC2)')\n",
        "    ax.set_title('Проекция на первые две главные компоненты')\n",
        "    ax.grid(True)\n",
        "\n",
        "    return fig"
      ]
    },
    {
      "cell_type": "code",
      "execution_count": 14,
      "metadata": {
        "colab": {
          "base_uri": "https://localhost:8080/",
          "height": 863
        },
        "id": "fPMSG3Rb3QLT",
        "outputId": "a3d03ba2-7a27-4373-a45e-3a8affd8e535"
      },
      "outputs": [
        {
          "output_type": "stream",
          "name": "stdout",
          "text": [
            "Проекция данных:\n",
            "[[-13.73   5.50]\n",
            " [ -4.17   0.91]\n",
            " [  5.16   7.56]\n",
            " [-10.59   0.98]\n",
            " [ 13.50   0.90]\n",
            " [ -4.07   4.88]\n",
            " [ 10.89  -0.53]\n",
            " [  3.27  -6.70]\n",
            " [ -4.52  -1.07]\n",
            " [  3.86  -5.49]\n",
            " [ -3.03  -7.95]\n",
            " [ -8.12   2.67]\n",
            " [ -2.74   5.50]\n",
            " [ -0.02 -13.38]\n",
            " [ -6.43   4.79]\n",
            " [  2.05   5.54]\n",
            " [  9.37   8.37]\n",
            " [ -0.15  -9.81]\n",
            " [ -2.03  -6.29]\n",
            " [ 11.52   3.62]]\n",
            "\n",
            "Доля объяснённой дисперсии двумя компонентами: 0.5828\n"
          ]
        },
        {
          "output_type": "display_data",
          "data": {
            "text/plain": [
              "<Figure size 640x480 with 1 Axes>"
            ],
            "image/png": "[encoded data removed]"
          },
          "metadata": {}
        }
      ],
      "source": [
        "import random\n",
        "\n",
        "random.seed(2)\n",
        "data = [[random.uniform(-10, 10) for _ in range(5)] for _ in range(20)]\n",
        "X = Matrix(data)\n",
        "\n",
        "X_proj, explained_variance = pca(X, k=2)\n",
        "\n",
        "print(f\"Проекция данных:\\n{X_proj}\")\n",
        "print()\n",
        "print(f\"Доля объяснённой дисперсии двумя компонентами: {explained_variance:.4f}\")\n",
        "\n",
        "fig = plot_pca_projection(X_proj)\n",
        "fig.show()"
      ]
    },
    {
      "cell_type": "markdown",
      "source": [
        "## 3. Среднеквадратическая ошибка восстановления данных"
      ],
      "metadata": {
        "id": "hFUlNnm3kKiB"
      }
    },
    {
      "cell_type": "code",
      "execution_count": 15,
      "metadata": {
        "id": "lf-UEqa33nj2"
      },
      "outputs": [],
      "source": [
        "def reconstruction_error(X_orig: 'Matrix', X_recon: 'Matrix') -> float:\n",
        "    n = len(X_orig.matrix)\n",
        "    m = len(X_orig.matrix[0])\n",
        "    error_sum = 0\n",
        "\n",
        "    for i in range(n):\n",
        "        for j in range(m):\n",
        "            diff = X_orig[i][j] - X_recon[i][j]\n",
        "            error_sum += diff ** 2\n",
        "\n",
        "    mse = error_sum / (n * m)\n",
        "    return mse\n"
      ]
    },
    {
      "cell_type": "markdown",
      "source": [
        "## Восстановление матрицы через главные компоненты и вектор средних значений"
      ],
      "metadata": {
        "id": "OYJ9l1HykUmg"
      }
    },
    {
      "cell_type": "code",
      "source": [
        "def reconstruct_data(X_proj, W, mean_vector):\n",
        "    WT = transpose(W)\n",
        "    X_recon_centered = X_proj @ WT\n",
        "\n",
        "    n = len(X_recon_centered.matrix)\n",
        "    m = len(X_recon_centered.matrix[0])\n",
        "    X_recon = Matrix([[X_recon_centered[i][j] + mean_vector[j] for j in range(m)] for i in range(n)])\n",
        "\n",
        "    return X_recon"
      ],
      "metadata": {
        "id": "q4sRkX4fYrCV"
      },
      "execution_count": 16,
      "outputs": []
    },
    {
      "cell_type": "markdown",
      "source": [
        "# Уровень Expert"
      ],
      "metadata": {
        "id": "BTAV5zy6kovp"
      }
    },
    {
      "cell_type": "markdown",
      "source": [
        "## 1. Выбор числа главных комопонент на основе порога объясненной дисперсии"
      ],
      "metadata": {
        "id": "RrrZNAcQktPu"
      }
    },
    {
      "cell_type": "code",
      "source": [
        "def auto_select_k(eigenvalues: List[float], threshold: float = 0.95) -> int:\n",
        "    all_eigenvalues = sum(eigenvalues)\n",
        "    explained = 0\n",
        "    for k, value in enumerate(eigenvalues, start=1):\n",
        "        explained += value\n",
        "        if explained / total_variance >= threshold:\n",
        "            return k\n",
        "    return len(eigenvalues)\n"
      ],
      "metadata": {
        "id": "dNkVTwqsbf6A"
      },
      "execution_count": 17,
      "outputs": []
    },
    {
      "cell_type": "markdown",
      "source": [
        "## PCA с автоматическим выбором числа компанент на основе объясненной дисперсии"
      ],
      "metadata": {
        "id": "v4p6CxZik5iN"
      }
    },
    {
      "cell_type": "code",
      "source": [
        "def automated_pca(X:'Matrix', threshold):\n",
        "    m = len(X.matrix[0])\n",
        "    n = len(X.matrix)\n",
        "    X_centered = center_data(X)\n",
        "    C = covariance_matrix(X_centered)\n",
        "\n",
        "    eigenvalues = qr_algorithm(C)\n",
        "    eigenvalues_sorted = sorted(eigenvalues, reverse=True)\n",
        "    eigenvectors = find_eigenvectors(C, eigenvalues_sorted)\n",
        "    eigenvectors = [normalize_vector(v) for v in eigenvectors]\n",
        "\n",
        "    k = auto_select_k(eigenvalues_sorted, threshold)\n",
        "\n",
        "    k_principal = [[] for _ in range(m)]\n",
        "    for i, vector in enumerate(eigenvectors):\n",
        "        if i >= k:\n",
        "            break\n",
        "        for elem in range(m):\n",
        "            k_principal[elem].append(vector[elem][0])\n",
        "\n",
        "    k_principal = Matrix(k_principal)\n",
        "    X_proj = X_centered @ k_principal\n",
        "    explained_variance = explained_variance_ratio(eigenvalues, k)\n",
        "\n",
        "    return X_proj, explained_variance"
      ],
      "metadata": {
        "id": "f5XAr50Ec8am"
      },
      "execution_count": 18,
      "outputs": []
    },
    {
      "cell_type": "markdown",
      "source": [
        "## Правило сломанной трости для вычисления числа главных компонент и PCA, использующий данное правило"
      ],
      "metadata": {
        "id": "4eaGukSRlFHV"
      }
    },
    {
      "cell_type": "code",
      "source": [
        "def broken_stick_rule(eigenvalues):\n",
        "    m = len(eigenvalues)\n",
        "    all_eigenvalues = sum(eigenvalues)\n",
        "    explained_ratios = [eig / all_eigenvalues for eig in eigenvalues]\n",
        "\n",
        "    broken_stick = []\n",
        "    for k in range(1, m + 1):\n",
        "        expected = sum(1/i for i in range(k, m + 1)) / m\n",
        "        broken_stick.append(expected)\n",
        "\n",
        "    k_optimal = 0\n",
        "    for ratio, stick in zip(explained_ratios, broken_stick):\n",
        "        if ratio >= stick:\n",
        "            k_optimal += 1\n",
        "        else:\n",
        "            break\n",
        "\n",
        "    return k_optimal\n",
        "\n",
        "\n",
        "def pca_broken_stick(X:'Matrix'):\n",
        "    m = len(X.matrix[0])\n",
        "    n = len(X.matrix)\n",
        "    X_centered = center_data(X)\n",
        "    C = covariance_matrix(X_centered)\n",
        "\n",
        "    eigenvalues = qr_algorithm(C)\n",
        "    eigenvalues_sorted = sorted(eigenvalues, reverse=True)\n",
        "    eigenvectors = find_eigenvectors(C, eigenvalues_sorted)\n",
        "    eigenvectors = [normalize_vector(v) for v in eigenvectors]\n",
        "\n",
        "    k = broken_stick_rule(eigenvalues_sorted)\n",
        "\n",
        "    k_principal = [[] for _ in range(m)]\n",
        "    for i, vector in enumerate(eigenvectors):\n",
        "        if i >= k:\n",
        "            break\n",
        "        for elem in range(m):\n",
        "            k_principal[elem].append(vector[elem][0])\n",
        "\n",
        "    k_principal = Matrix(k_principal)\n",
        "    X_proj = X_centered @ k_principal\n",
        "    explained_variance = explained_variance_ratio(eigenvalues, k)\n",
        "\n",
        "    return X_proj, explained_variance\n"
      ],
      "metadata": {
        "id": "hzpPv3LAdTz5"
      },
      "execution_count": 19,
      "outputs": []
    },
    {
      "cell_type": "markdown",
      "source": [
        "## 2. Обработка пропущенных значений в данных"
      ],
      "metadata": {
        "id": "WtL6xifGnRQR"
      }
    },
    {
      "cell_type": "code",
      "source": [
        "import math\n",
        "\n",
        "def handle_missing_values(X: 'Matrix') -> 'Matrix':\n",
        "    n = len(X.matrix)\n",
        "    m = len(X.matrix[0])\n",
        "\n",
        "    mean_vector = [\n",
        "        sum(X[i][j] for i in range(n) if X[i][j] is not None and not math.isnan(X[i][j])) /\n",
        "        sum(1 for i in range(n) if X[i][j] is not None and not math.isnan(X[i][j]))\n",
        "        for j in range(m)\n",
        "    ]\n",
        "\n",
        "    X_filled = [\n",
        "        [\n",
        "            mean_vector[j] if (X[i][j] is None or (isinstance(X[i][j], float) and math.isnan(X[i][j]))) else X[i][j]\n",
        "            for j in range(m)\n",
        "        ]\n",
        "        for i in range(n)\n",
        "    ]\n",
        "\n",
        "    return Matrix(X_filled)\n"
      ],
      "metadata": {
        "id": "ktXTOK_RiBRK"
      },
      "execution_count": 20,
      "outputs": []
    },
    {
      "cell_type": "code",
      "source": [
        "X_data = Matrix([\n",
        "    [1.0, 2.0, None],\n",
        "    [2.0, math.nan, 5.0],\n",
        "    [None, 4.0, 6.0],\n",
        "    [4.0, 5.0, 6.0]\n",
        "])\n",
        "\n",
        "print()\n",
        "print(handle_missing_values(X_data))"
      ],
      "metadata": {
        "colab": {
          "base_uri": "https://localhost:8080/"
        },
        "id": "oTsCUPkErYLl",
        "outputId": "34c2670f-994f-4ed6-b21e-d69cbcaba3b2"
      },
      "execution_count": 21,
      "outputs": [
        {
          "output_type": "stream",
          "name": "stdout",
          "text": [
            "\n",
            "[[1.00 2.00 5.67]\n",
            " [2.00 3.67 5.00]\n",
            " [2.33 4.00 6.00]\n",
            " [4.00 5.00 6.00]]\n"
          ]
        }
      ]
    },
    {
      "cell_type": "markdown",
      "source": [
        "## 3. Исследование влияния шума на PCA"
      ],
      "metadata": {
        "id": "gF7SXNb03Ndf"
      }
    },
    {
      "cell_type": "code",
      "source": [
        "import random\n",
        "\n",
        "def add_noise_and_compare(X: 'Matrix', noise_level: float = 0.1):\n",
        "    n = len(X.matrix)\n",
        "    m = len(X.matrix[0])\n",
        "\n",
        "    X_proj_clean, explained_variance_clean = pca(X, k=2)\n",
        "\n",
        "    std_dev = []\n",
        "    for j in range(m):\n",
        "        mean_j = sum(X[i][j] for i in range(n)) / n\n",
        "        variance_j = sum((X[i][j] - mean_j) ** 2 for i in range(n)) / n\n",
        "        std_dev.append(math.sqrt(variance_j))\n",
        "\n",
        "    X_noisy = Matrix([\n",
        "        [\n",
        "            X[i][j] + random.gauss(0, noise_level * std_dev[j])\n",
        "            for j in range(m)\n",
        "        ]\n",
        "        for i in range(n)\n",
        "    ])\n",
        "\n",
        "    X_proj_noisy, explained_variance_noisy = pca(X_noisy, k=2)\n",
        "\n",
        "    fig_clean = plot_pca_projection(X_proj_clean)\n",
        "    fig_noisy = plot_pca_projection(X_proj_noisy)\n",
        "\n",
        "    print(f\"Доля объяснённой дисперсии без шума: {explained_variance_clean:.4f}\")\n",
        "    print(f\"Доля объяснённой дисперсии с шумом: {explained_variance_noisy:.4f}\")\n",
        "\n",
        "    return X_proj_clean, explained_variance_clean, X_proj_noisy, explained_variance_noisy\n"
      ],
      "metadata": {
        "id": "OsWv2lBXrgPq"
      },
      "execution_count": 22,
      "outputs": []
    },
    {
      "cell_type": "code",
      "source": [
        "def modified_add_noise_and_compare(X: 'Matrix', noise_level: float = 0.1, k=2):\n",
        "    n = len(X.matrix)\n",
        "    m = len(X.matrix[0])\n",
        "\n",
        "    X_proj_clean, explained_variance_clean = pca(X, k)\n",
        "\n",
        "    std_dev = []\n",
        "    for j in range(m):\n",
        "        mean_j = sum(X[i][j] for i in range(n)) / n\n",
        "        variance_j = sum((X[i][j] - mean_j) ** 2 for i in range(n)) / n\n",
        "        std_dev.append(math.sqrt(variance_j))\n",
        "\n",
        "    X_noisy = Matrix([\n",
        "        [\n",
        "            X[i][j] + random.gauss(0, noise_level * std_dev[j])\n",
        "            for j in range(m)\n",
        "        ]\n",
        "        for i in range(n)\n",
        "    ])\n",
        "\n",
        "    X_proj_noisy, explained_variance_noisy = pca(X_noisy, k)\n",
        "\n",
        "    if k == 2:\n",
        "        fig_clean = plot_pca_projection(X_proj_clean)\n",
        "        fig_noisy = plot_pca_projection(X_proj_noisy)\n",
        "\n",
        "    print(f\"Доля объяснённой дисперсии без шума: {explained_variance_clean:.4f}\")\n",
        "    print(f\"Доля объяснённой дисперсии с шумом: {explained_variance_noisy:.4f}\")\n",
        "\n",
        "    return X_proj_clean, explained_variance_clean, X_proj_noisy, explained_variance_noisy\n"
      ],
      "metadata": {
        "id": "5bJd4cnk9CU8"
      },
      "execution_count": 23,
      "outputs": []
    },
    {
      "cell_type": "code",
      "source": [
        "data = datasets.load_diabetes().data\n",
        "data = Matrix([list(row) for row in data])\n",
        "x_clean, var1, x_noisy, var2 = modified_add_noise_and_compare(data, noise_level=0.8, k=2)"
      ],
      "metadata": {
        "colab": {
          "base_uri": "https://localhost:8080/",
          "height": 961
        },
        "id": "miG9dVkyNlbG",
        "outputId": "673704e2-3911-4ac2-b7fc-b5cabaf11184"
      },
      "execution_count": 45,
      "outputs": [
        {
          "output_type": "stream",
          "name": "stdout",
          "text": [
            "Доля объяснённой дисперсии без шума: 0.5517\n",
            "Доля объяснённой дисперсии с шумом: 0.4101\n"
          ]
        },
        {
          "output_type": "display_data",
          "data": {
            "text/plain": [
              "<Figure size 640x480 with 1 Axes>"
            ],
            "image/png": "[encoded data removed]"
          },
          "metadata": {}
        },
        {
          "output_type": "display_data",
          "data": {
            "text/plain": [
              "<Figure size 640x480 with 1 Axes>"
            ],
            "image/png": "[encoded data removed]"
          },
          "metadata": {}
        }
      ]
    },
    {
      "cell_type": "markdown",
      "source": [
        "## 4. Применение PCA к датасету"
      ],
      "metadata": {
        "id": "Gcl-JfUIMPxf"
      }
    },
    {
      "cell_type": "code",
      "source": [
        "import csv\n",
        "\n",
        "def modified_pca(X:'Matrix', k: int):\n",
        "    m = len(X.matrix[0])\n",
        "    n = len(X.matrix)\n",
        "    X_centered = center_data(X)\n",
        "    C = covariance_matrix(X_centered)\n",
        "\n",
        "    eigenvalues = qr_algorithm(C)\n",
        "    eigenvalues_sorted = sorted(eigenvalues, reverse=True)\n",
        "    eigenvectors = find_eigenvectors(C, eigenvalues_sorted)\n",
        "    eigenvectors = [normalize_vector(v) for v in eigenvectors]\n",
        "\n",
        "    k_principal = [[] for _ in range(m)]\n",
        "    for i, vector in enumerate(eigenvectors):\n",
        "        if i >= k:\n",
        "            break\n",
        "        for elem in range(m):\n",
        "            k_principal[elem].append(vector[elem][0])\n",
        "\n",
        "    k_principal = Matrix(k_principal)\n",
        "    X_proj = X_centered @ k_principal\n",
        "    explained_variance = explained_variance_ratio(eigenvalues, k)\n",
        "\n",
        "    return X_proj, explained_variance, k_principal\n",
        "\n",
        "def apply_pca_to_file(file_path: str, k: int):\n",
        "    with open(file_path, 'r', newline='') as f:\n",
        "        reader = csv.reader(f)\n",
        "        next(reader)\n",
        "        data = []\n",
        "        for row in reader:\n",
        "            if row:\n",
        "                data.append([float(x) for x in row])\n",
        "\n",
        "    X = Matrix(data)\n",
        "    X_centered = center_data(X)\n",
        "    X_proj, explained_variance, k_principal = modified_pca(X, k)\n",
        "\n",
        "    X_recon = X_proj @ transpose(k_principal)\n",
        "    mse = reconstruction_error(X_centered, X_recon)\n",
        "\n",
        "    return X_proj, mse, explained_variance\n"
      ],
      "metadata": {
        "id": "N8JxjNcbMBrf"
      },
      "execution_count": 24,
      "outputs": []
    },
    {
      "cell_type": "code",
      "source": [
        "X_proj, mse, variance = apply_pca_to_file('/heart.csv', 5)\n",
        "print(f'MSE восстановленной матрицы: {mse}')\n",
        "print(f'Доля объясненной дисперсии: {variance}')"
      ],
      "metadata": {
        "id": "mFnJimUQPsPq",
        "colab": {
          "base_uri": "https://localhost:8080/"
        },
        "outputId": "3c9b3493-f3a8-43d9-f680-373fe6d9ebb5"
      },
      "execution_count": 27,
      "outputs": [
        {
          "output_type": "stream",
          "name": "stdout",
          "text": [
            "MSE после восстановления матрицы: 0.23290017524922585\n",
            "Доля объясненной дисперсии: 0.9990929026876236\n"
          ]
        }
      ]
    },
    {
      "cell_type": "code",
      "source": [
        "from sklearn import datasets\n",
        "from typing import Tuple\n",
        "\n",
        "def apply_pca_to_dataset(dataset_name: str, k: int) -> Tuple['Matrix', float, float]:\n",
        "    if dataset_name == 'iris':\n",
        "        data = datasets.load_iris().data\n",
        "    elif dataset_name == 'wine':\n",
        "        data = datasets.load_wine().data\n",
        "    elif dataset_name == 'digits':\n",
        "        data = datasets.load_digits().data\n",
        "    elif dataset_name == 'breast_cancer':\n",
        "        data = datasets.load_breast_cancer().data\n",
        "    elif dataset_name == 'diabetes':\n",
        "        data = datasets.load_diabetes().data\n",
        "    else:\n",
        "        raise ValueError(\"Неизвестный датасет\")\n",
        "\n",
        "    X = Matrix([list(row) for row in data])\n",
        "\n",
        "    X_centered = center_data(X)\n",
        "    X_proj, explained_variance, k_principal = modified_pca(X, k)\n",
        "\n",
        "    X_recon = X_proj @ transpose(k_principal)\n",
        "    mse = reconstruction_error(X_centered, X_recon)\n",
        "\n",
        "    return X_proj, mse, explained_variance\n"
      ],
      "metadata": {
        "id": "4clpoiTgQkC9"
      },
      "execution_count": 29,
      "outputs": []
    },
    {
      "cell_type": "code",
      "source": [
        "x, m, v = apply_pca_to_dataset('wine', 3)\n",
        "print(f'MSE восстановленной матрицы: {m}')\n",
        "print(f'Доля объясненной дисперсии: {v}')"
      ],
      "metadata": {
        "colab": {
          "base_uri": "https://localhost:8080/"
        },
        "id": "D-X-fhEiaiHD",
        "outputId": "4a085c46-153a-4ce5-e156-da35aa9b0190"
      },
      "execution_count": 44,
      "outputs": [
        {
          "output_type": "stream",
          "name": "stdout",
          "text": [
            "MSE восстановленной матрицы: 0.5921999231817159\n",
            "Доля объясненной дисперсии: 0.9999221050741537\n"
          ]
        }
      ]
    },
    {
      "cell_type": "markdown",
      "source": [
        "# Математическое обоснование"
      ],
      "metadata": {
        "id": "R-QM3tApUz50"
      }
    },
    {
      "cell_type": "markdown",
      "source": [
        "### Доказать, что оптимальные направления PCA совпадают с собственными векторами матрицы ковариаций\n",
        "\n",
        "##### Доказательсво:\n",
        "Постановка задачи: пусть у нас есть Евклидово пространство размерности $D$ с определенным скалярным произведением $(x,y) = x^T  y$; пусть у нас есть матрица объектов-признаков. Задача состоит в том, чтобы спроецировать наши данные на пространство Размерности $M$, где $M<D$, и максимизировать дисперсию на новых осях пространства $M$ \\\n",
        "\\\n",
        "Перейдем к доказательству \\\n",
        "\\\n",
        "Пусть значение $M$ дано \\\n",
        "Для начала рассмотрим проекцию на одномерное пространство ($dim(M) = 1$). \\\n",
        "Пусть это пространство задается линейной оболочкой вектора $u$ такого, что $u^Tu = 1$ и $u \\in \\mathbb{R}^D$ \\\n",
        "Пусть $x_i$ - это наши векторы данных (объекты в матрице), $x_i \\in \\mathbb{R}^D$. Тогда проекция $x_i$ на наше подпространство будет представлять из себя скаляр равный $u^T  x_i$  \\\n",
        "\\\n",
        "Определим также среднее спроецированных данных на подпространство: $u^T  x_{mean}$, где $x_{mean} = \\frac{1}{N} \\sum_{n=1}^{N} x_n$; $X_{cen}$ - отцентрированная матрица X \\\n",
        "Центрирование данных нужно для того, чтобы можно было посмотреть чистый разброс данных, а не смещенный\n",
        "\\\n",
        "Определим матрицу ковариаций: $C = \\frac{1}{N-1} \\sum_{n=1}^{N} (x_n - x_{mean})^T (x_n - x_{mean}) = \\frac{1}{N-1} X_{cen}^TX_{cen}$ \\\n",
        "\\\n",
        "Зададим дисперсию спроектированных данных: $var = \\frac{1}{N-1} \\sum_{n=1}^{N} (u^T  x_n - u^T  x_{mean})^2 = u^T(\\frac{1}{N-1} \\sum_{n=1}^{N} (x_n - x_{mean})^T (x_n - x_{mean}))u = u^TCu$ \\\n",
        "\\\n",
        "Для метода PCA необходимо максимизировать дисперсию для выбора новой оси. Поэтому на векторе $u$ проекция данных должна иметь максимальную дисперсию \\\n",
        "\n",
        "Норму вектора $u$ оставим также равной 1, иначе если длина вектора $u$ будет стремиться к $\\infty$, то и дисперсия будет стремиться к $\\infty$, тогда нельзя будет сделать никакого вывода. \\\n",
        "\\\n",
        "Воспользуемся функцией Лагранжа: у нас есть целевая функция, которую мы исследуем $f(u) = u^TCu$ и функция ограничений $g(u) = 1 - u^Tu = 0$. \\\n",
        "Тогда $L(x, \\lambda) = f(x) + \\lambda * g(x)$, в нашем случае: $L(u, \\lambda) = u^TCu + \\lambda  (1 - u^Tu)$. Возьмем градиент по $u$ и получим $2Cu - 2\\lambda u = 0$ \\\n",
        "Отсюда $Cu = \\lambda u$, это и означает, что $\\lambda$ - собственное значение матрицы ковариаций $C$. Так дисперсия будет максимальной, если $u$ будет являться собственным вектором соответствующим максимальному собственному значению $\\lambda$. Это будет являться нашей первой главной компонентой. \\\n",
        "\\\n",
        "Мы можем определить дополнительные основные компоненты постепенно, выбирая каждое новое направление, которое максимизирует прогнозируемую дисперсию среди всех возможных направлений, ортогональных к тем, которые уже рассмотрены  \n",
        "Следовательно, подпространство $M$ будет задаваться $M$ собственными векторами соответсвующими $M$ максимальным собственным значениям мактрицы ковариаций $C$\n",
        "\n"
      ],
      "metadata": {
        "id": "-9dk1dhPVBxr"
      }
    },
    {
      "cell_type": "code",
      "source": [],
      "metadata": {
        "id": "DcjJgOMfVAIn"
      },
      "execution_count": null,
      "outputs": []
    }
  ],
  "metadata": {
    "colab": {
      "provenance": []
    },
    "kernelspec": {
      "display_name": "Python (my_env)",
      "language": "python",
      "name": "my_env"
    },
    "language_info": {
      "codemirror_mode": {
        "name": "ipython",
        "version": 3
      },
      "file_extension": ".py",
      "mimetype": "text/x-python",
      "name": "python",
      "nbconvert_exporter": "python",
      "pygments_lexer": "ipython3",
      "version": "3.11.11"
    }
  },
  "nbformat": 4,
  "nbformat_minor": 0
}